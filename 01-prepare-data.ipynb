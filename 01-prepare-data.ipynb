{
 "cells": [
  {
   "cell_type": "markdown",
   "metadata": {},
   "source": [
    "## Python and R\n",
    "\n",
    "This setup allows you to use *Python* and *R* in the same notebook.\n",
    "\n",
    "To set up a similar notebook, see quickstart instructions here:\n",
    "\n",
    "https://github.com/dmil/jupyter-quickstart\n",
    "\n",
    "Some thoughts on why I like this setup and how I use it at the [end](notebook.ipynb#Thoughts) of  this notebook."
   ]
  },
  {
   "cell_type": "code",
   "execution_count": null,
   "metadata": {},
   "outputs": [],
   "source": [
    "%load_ext rpy2.ipython\n",
    "%load_ext autoreload\n",
    "%autoreload 2\n",
    "\n",
    "%matplotlib inline  \n",
    "from matplotlib import rcParams\n",
    "rcParams['figure.figsize'] = (16, 100)\n",
    "\n",
    "import warnings\n",
    "from rpy2.rinterface import RRuntimeWarning\n",
    "warnings.filterwarnings(\"ignore\") # Ignore all warnings\n",
    "# warnings.filterwarnings(\"ignore\", category=RRuntimeWarning) # Show some warnings\n",
    "\n",
    "import pandas as pd\n",
    "import numpy as np\n",
    "import matplotlib.pyplot as plt\n",
    "from IPython.display import display, HTML\n",
    "\n",
    "# always show all columns\n",
    "pd.set_option('display.max_columns', None)"
   ]
  },
  {
   "cell_type": "markdown",
   "metadata": {},
   "source": [
    "This is a Python notebook, but below is an R cell. The `%%R` at the top of the cell indicates that the code in this cell will be R code."
   ]
  },
  {
   "cell_type": "code",
   "execution_count": null,
   "metadata": {},
   "outputs": [],
   "source": [
    "%%R\n",
    "\n",
    "# My commonly used R imports\n",
    "\n",
    "require('tidyverse')"
   ]
  },
  {
   "cell_type": "markdown",
   "metadata": {},
   "source": [
    "## Read Election Data"
   ]
  },
  {
   "cell_type": "markdown",
   "metadata": {},
   "source": [
    "Load election results"
   ]
  },
  {
   "cell_type": "code",
   "execution_count": null,
   "metadata": {},
   "outputs": [],
   "source": [
    "election_results = pd.read_csv('data/election_results.csv', dtype={'fips': str})"
   ]
  },
  {
   "cell_type": "markdown",
   "metadata": {},
   "source": [
    "Filter to presidential only"
   ]
  },
  {
   "cell_type": "code",
   "execution_count": null,
   "metadata": {},
   "outputs": [],
   "source": [
    "# filter to where type is presidential only\n",
    "election_results = election_results[election_results['type'] == 'presidential']"
   ]
  },
  {
   "cell_type": "markdown",
   "metadata": {},
   "source": [
    "Make a column for 2020 results "
   ]
  },
  {
   "cell_type": "code",
   "execution_count": null,
   "metadata": {},
   "outputs": [],
   "source": [
    "last_election = election_results[election_results['year'] == 2020]\n",
    "\n",
    "election_results = election_results.merge(\n",
    "    last_election[['fips', 'democratic_pct', 'republican_pct']],\n",
    "    on='fips',\n",
    "    how='left',\n",
    "    suffixes=('', '_2020')\n",
    ")"
   ]
  },
  {
   "cell_type": "markdown",
   "metadata": {},
   "source": [
    "**Filter to 2024 only**\n",
    "\n",
    "So we are left with 2024 presidential election results with a column containing 2020 results"
   ]
  },
  {
   "cell_type": "code",
   "execution_count": null,
   "metadata": {},
   "outputs": [],
   "source": [
    "\n",
    "# filter to 2024 only\n",
    "election_results = election_results[election_results['year'] == 2024]\n",
    "election_results"
   ]
  },
  {
   "cell_type": "markdown",
   "metadata": {},
   "source": [
    "## Get Census Data"
   ]
  },
  {
   "cell_type": "code",
   "execution_count": null,
   "metadata": {},
   "outputs": [],
   "source": [
    "%%R \n",
    "\n",
    "require(tidycensus)\n",
    "options(tigris_use_cache = TRUE)\n",
    "# Read API key from .env\n",
    "Sys.setenv(CENSUS_API_KEY = Sys.getenv(\"CENSUS_API_KEY\"))\n",
    "# Read census data\n",
    "census_data = get_acs(geography = \"county\", \n",
    "    # get population, \n",
    "    variables = c(\n",
    "        total_pop = \"B01003_001\",\n",
    "        median_income = \"B19013_001\",\n",
    "        median_age = \"B01002_001\",\n",
    "        white = \"B02001_002\",\n",
    "        black = \"B02001_003\",\n",
    "        native = \"B02001_004\",\n",
    "        asian = \"B02001_005\",\n",
    "        hispanic = \"B03002_012\",\n",
    "        below_poverty = \"B17001_002\"),\n",
    "    year = 2022,\n",
    "    geometry = T)\n"
   ]
  },
  {
   "cell_type": "markdown",
   "metadata": {},
   "source": [
    "pivot and calculate percents"
   ]
  },
  {
   "cell_type": "code",
   "execution_count": null,
   "metadata": {},
   "outputs": [],
   "source": [
    "%%R\n",
    "\n",
    "census_data <- census_data %>% \n",
    "    pivot_wider(\n",
    "        id_cols=c(GEOID, NAME, geometry),\n",
    "        names_from = variable, \n",
    "        values_from = estimate) %>% \n",
    "    mutate(\n",
    "        pct_white = white / total_pop,\n",
    "        pct_black = black / total_pop,\n",
    "        pct_native = native / total_pop,\n",
    "        pct_hispanic = hispanic / total_pop,\n",
    "        pct_below_poverty = below_poverty / total_pop\n",
    "    )"
   ]
  },
  {
   "cell_type": "markdown",
   "metadata": {},
   "source": [
    "get popualtion density (for rough urban/rural calculation)"
   ]
  },
  {
   "cell_type": "code",
   "execution_count": null,
   "metadata": {},
   "outputs": [],
   "source": [
    "%%R -o census_data\n",
    "\n",
    "library(sf)\n",
    "\n",
    "census_data = census_data %>%\n",
    "  mutate(\n",
    "    area_sqkm = st_area(geometry) / 10^6,  # area in square kilometers\n",
    "    pop_density = total_pop / area_sqkm\n",
    "  ) %>% \n",
    "  # remove geometry\n",
    "  st_drop_geometry() "
   ]
  },
  {
   "cell_type": "markdown",
   "metadata": {},
   "source": [
    "Show dataframe by population density"
   ]
  },
  {
   "cell_type": "code",
   "execution_count": null,
   "metadata": {},
   "outputs": [],
   "source": [
    "census_data.sort_values(by='pop_density', ascending=False)"
   ]
  },
  {
   "cell_type": "markdown",
   "metadata": {},
   "source": [
    "## Join Election Data with Census Data"
   ]
  },
  {
   "cell_type": "code",
   "execution_count": null,
   "metadata": {},
   "outputs": [],
   "source": [
    "df = election_results.merge(census_data, left_on='fips', right_on='GEOID', how='left')\n",
    "df"
   ]
  },
  {
   "cell_type": "markdown",
   "metadata": {},
   "source": [
    "The following plaes are excluded due to census API not returning data for them:"
   ]
  },
  {
   "cell_type": "code",
   "execution_count": null,
   "metadata": {},
   "outputs": [],
   "source": [
    "# show all\n",
    "with pd.option_context('display.max_rows', None, 'display.max_columns', None):\n",
    "    display(df.query('total_pop.isna()')[['fips','state','county']].drop_duplicates())\n",
    "\n",
    "# drop these\n",
    "df = df.query('total_pop.notna()')"
   ]
  },
  {
   "cell_type": "markdown",
   "metadata": {},
   "source": [
    "⚠️ drop na values "
   ]
  },
  {
   "cell_type": "code",
   "execution_count": null,
   "metadata": {},
   "outputs": [],
   "source": [
    "all_columns_except_class = [x for x in df.columns if x != 'class']\n",
    "# find rows with blanks\n",
    "rows_with_na_values = df[df[all_columns_except_class].isna().any(axis=1)]\n",
    "display(rows_with_na_values)\n",
    "\n",
    "# drop those rows\n",
    "df = df.dropna(subset=all_columns_except_class)\n"
   ]
  },
  {
   "cell_type": "markdown",
   "metadata": {},
   "source": [
    "⚠️ drop connecticut, alaska and DC\n"
   ]
  },
  {
   "cell_type": "code",
   "execution_count": null,
   "metadata": {},
   "outputs": [],
   "source": [
    "df = df.query('state != \"Connecticut\"')\n",
    "df = df.query('state != \"Alaska\"')\n",
    "df = df.query('state.notna()')"
   ]
  },
  {
   "cell_type": "markdown",
   "metadata": {},
   "source": [
    "## Add region"
   ]
  },
  {
   "cell_type": "code",
   "execution_count": null,
   "metadata": {},
   "outputs": [],
   "source": [
    "%%R  -i df\n",
    "# Get state-level population\n",
    "states_pop <- get_acs(\n",
    "  geography = \"state\",\n",
    "  variables = \"B01003_001\",\n",
    "  year = 2022\n",
    ")\n",
    "\n",
    "# Add regions (manually or via a built-in lookup)\n",
    "state_regions <- tibble::tibble(\n",
    "  state = state.name,\n",
    "  region = state.region\n",
    ")\n"
   ]
  },
  {
   "cell_type": "code",
   "execution_count": null,
   "metadata": {},
   "outputs": [],
   "source": [
    "%%R  -o df\n",
    "\n",
    "# merge it onto census data\n",
    "df <- df %>%\n",
    "  left_join(state_regions, by = \"state\")"
   ]
  },
  {
   "cell_type": "markdown",
   "metadata": {},
   "source": [
    "## Clean Up & Output to CSV"
   ]
  },
  {
   "cell_type": "code",
   "execution_count": null,
   "metadata": {},
   "outputs": [],
   "source": [
    "df.drop(columns=['class', 'GEOID', 'NAME'], inplace=True)\n",
    "df.to_csv('cleaned_and_merged_data.csv', index=False)\n",
    "df"
   ]
  }
 ],
 "metadata": {
  "kernelspec": {
   "display_name": "Python 3",
   "language": "python",
   "name": "python3"
  },
  "language_info": {
   "codemirror_mode": {
    "name": "ipython",
    "version": 3
   },
   "file_extension": ".py",
   "mimetype": "text/x-python",
   "name": "python",
   "nbconvert_exporter": "python",
   "pygments_lexer": "ipython3",
   "version": "3.12.0"
  }
 },
 "nbformat": 4,
 "nbformat_minor": 4
}
