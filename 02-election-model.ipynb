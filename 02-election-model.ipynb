{
 "cells": [
  {
   "cell_type": "markdown",
   "metadata": {},
   "source": [
    "## Python and R\n",
    "\n",
    "This setup allows you to use *Python* and *R* in the same notebook.\n",
    "\n",
    "To set up a similar notebook, see quickstart instructions here:\n",
    "\n",
    "https://github.com/dmil/jupyter-quickstart\n",
    "\n",
    "Some thoughts on why I like this setup and how I use it at the [end](notebook.ipynb#Thoughts) of  this notebook."
   ]
  },
  {
   "cell_type": "code",
   "execution_count": null,
   "metadata": {},
   "outputs": [],
   "source": [
    "%load_ext rpy2.ipython\n",
    "%load_ext autoreload\n",
    "%autoreload 2\n",
    "\n",
    "%matplotlib inline  \n",
    "from matplotlib import rcParams\n",
    "rcParams['figure.figsize'] = (16, 100)\n",
    "\n",
    "import warnings\n",
    "from rpy2.rinterface import RRuntimeWarning\n",
    "warnings.filterwarnings(\"ignore\") # Ignore all warnings\n",
    "# warnings.filterwarnings(\"ignore\", category=RRuntimeWarning) # Show some warnings\n",
    "\n",
    "import pandas as pd\n",
    "import numpy as np\n",
    "import matplotlib.pyplot as plt\n",
    "from IPython.display import display, HTML\n",
    "\n",
    "# always show all columns\n",
    "pd.set_option('display.max_columns', None)"
   ]
  },
  {
   "cell_type": "markdown",
   "metadata": {},
   "source": [
    "This is a Python notebook, but below is an R cell. The `%%R` at the top of the cell indicates that the code in this cell will be R code."
   ]
  },
  {
   "cell_type": "code",
   "execution_count": null,
   "metadata": {},
   "outputs": [],
   "source": [
    "%%R\n",
    "\n",
    "# My commonly used R imports\n",
    "\n",
    "require('tidyverse')"
   ]
  },
  {
   "cell_type": "markdown",
   "metadata": {},
   "source": [
    "## Read Data"
   ]
  },
  {
   "cell_type": "code",
   "execution_count": null,
   "metadata": {},
   "outputs": [],
   "source": [
    "df = pd.read_csv('cleaned_and_merged_data.csv', dtype={'fips': str})\n",
    "df"
   ]
  },
  {
   "cell_type": "markdown",
   "metadata": {},
   "source": [
    "# Exploratory Data Visualization (single variable)"
   ]
  },
  {
   "cell_type": "code",
   "execution_count": null,
   "metadata": {},
   "outputs": [],
   "source": [
    "%%R -i df\n",
    "\n",
    "# Define variables \n",
    "# 👇 modify these only and re-run the cell\n",
    "#    to see different single-variable regressions\n",
    "x_var <- \"median_income\"\n",
    "y_var <- \"republican_pct\"\n",
    "\n",
    "# Create formula dynamically\n",
    "formula <- as.formula(paste(y_var, \"~\", x_var))\n",
    "\n",
    "# Show the model\n",
    "model <- lm(formula, data = df)\n",
    "print(summary(model))\n",
    "\n",
    "# Show the ggplot\n",
    "ggplot(df, aes_string(x = x_var, y = y_var)) +\n",
    "    geom_point(alpha = 0.2) +\n",
    "    geom_smooth() +\n",
    "    theme_minimal()"
   ]
  },
  {
   "cell_type": "markdown",
   "metadata": {},
   "source": [
    "## 👉 Build a better model (do a multivariable linear regression here)"
   ]
  },
  {
   "cell_type": "code",
   "execution_count": null,
   "metadata": {},
   "outputs": [],
   "source": [
    "%%R \n",
    "\n",
    "# keep modifying this line 👇 and re-running the whole notebook...\n",
    "model <- lm(republican_pct ~ median_income, data=df)\n",
    "summary(model)"
   ]
  },
  {
   "cell_type": "markdown",
   "metadata": {},
   "source": [
    "## Model diagnostics"
   ]
  },
  {
   "cell_type": "code",
   "execution_count": null,
   "metadata": {},
   "outputs": [],
   "source": [
    "%%R -w 1000 -h 1000\n",
    "\n",
    "par(mfrow = c(2, 2))  # 2x2 layout\n",
    "plot(model)\n"
   ]
  },
  {
   "cell_type": "markdown",
   "metadata": {},
   "source": [
    "- Video on model diagnostics: https://www.youtube.com/watch?v=jd7x-ww7da4\n",
    "- Some notes on Q-Q Plot:\n",
    "https://www.youtube.com/watch?v=okjYjClSjOg\n"
   ]
  },
  {
   "cell_type": "markdown",
   "metadata": {},
   "source": [
    "## Residual Analysis"
   ]
  },
  {
   "cell_type": "code",
   "execution_count": null,
   "metadata": {},
   "outputs": [],
   "source": [
    "%%R -o df\n",
    "\n",
    "# add model residuals onto dataframe\n",
    "df <- df %>%\n",
    "    mutate(\n",
    "        residuals = model$residuals,\n",
    "        fitted = model$fitted.values,\n",
    "        residuals_z = scale(residuals)\n",
    "    ) %>% \n",
    "    arrange(residuals)  %>% \n",
    "    ungroup() %>% \n",
    "    mutate(across(everything(), as.vector))  # Ensure all columns are 1D vectors (chatgpt fix)\n",
    "\n",
    "df %>% head()"
   ]
  },
  {
   "cell_type": "code",
   "execution_count": null,
   "metadata": {},
   "outputs": [],
   "source": [
    "df[['state', 'county', 'total_pop', 'year', 'median_income', 'pct_black', 'pct_hispanic', 'pct_white', 'pct_native', 'density_per_sqkm', 'region', 'democratic_pct', 'republican_pct', 'fitted', 'residuals', 'residuals_z']].head(10)"
   ]
  },
  {
   "cell_type": "code",
   "execution_count": null,
   "metadata": {},
   "outputs": [],
   "source": [
    "df[['state', 'county', 'total_pop', 'year', 'median_income', 'pct_black', 'pct_hispanic', 'pct_white', 'pct_native', 'density_per_sqkm', 'region', 'democratic_pct', 'republican_pct', 'fitted', 'residuals', 'residuals_z']].tail(10)"
   ]
  }
 ],
 "metadata": {
  "kernelspec": {
   "display_name": "Python 3",
   "language": "python",
   "name": "python3"
  },
  "language_info": {
   "codemirror_mode": {
    "name": "ipython",
    "version": 3
   },
   "file_extension": ".py",
   "mimetype": "text/x-python",
   "name": "python",
   "nbconvert_exporter": "python",
   "pygments_lexer": "ipython3",
   "version": "3.12.0"
  }
 },
 "nbformat": 4,
 "nbformat_minor": 4
}
